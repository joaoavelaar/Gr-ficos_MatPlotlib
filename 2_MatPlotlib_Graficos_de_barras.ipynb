{
  "nbformat": 4,
  "nbformat_minor": 0,
  "metadata": {
    "colab": {
      "provenance": [],
      "authorship_tag": "ABX9TyO0rDgfxhszrrJjcvK0p7TU",
      "include_colab_link": true
    },
    "kernelspec": {
      "name": "python3",
      "display_name": "Python 3"
    },
    "language_info": {
      "name": "python"
    }
  },
  "cells": [
    {
      "cell_type": "markdown",
      "metadata": {
        "id": "view-in-github",
        "colab_type": "text"
      },
      "source": [
        "<a href=\"https://colab.research.google.com/github/joaoavelaar/Graficos_MatPlotlib/blob/main/2_MatPlotlib_Graficos_de_barras.ipynb\" target=\"_parent\"><img src=\"https://colab.research.google.com/assets/colab-badge.svg\" alt=\"Open In Colab\"/></a>"
      ]
    },
    {
      "cell_type": "code",
      "execution_count": null,
      "metadata": {
        "id": "31MBCxsV2XSf"
      },
      "outputs": [],
      "source": []
    },
    {
      "cell_type": "markdown",
      "source": [
        "# **MatPlotlib-Gráficos de barra**"
      ],
      "metadata": {
        "id": "VHKzp9GH2b7K"
      }
    },
    {
      "cell_type": "code",
      "source": [
        "# Criando gráficos de barra co blibioteca Matplotlib\n",
        "# João A. Avelar Duarte\n",
        "# joaoavelarduarte@hotmail.com"
      ],
      "metadata": {
        "id": "9DoB0ypy2p9T"
      },
      "execution_count": 1,
      "outputs": []
    },
    {
      "cell_type": "code",
      "source": [
        "# Importando as Blibiotecas de Python\n",
        "import numpy as np\n",
        "import matplotlib.pyplot as plt"
      ],
      "metadata": {
        "id": "VC4DEKIW27N1"
      },
      "execution_count": 3,
      "outputs": []
    },
    {
      "cell_type": "code",
      "source": [
        "#Criando os Rótulos e Elementos de Visualização (Dimensão - Label)\n",
        "labels = [\"A1\",\"A2\",\"A3\",\"A4\",\"A5\"]"
      ],
      "metadata": {
        "id": "oy1JiQUn3BEr"
      },
      "execution_count": 4,
      "outputs": []
    },
    {
      "cell_type": "code",
      "source": [
        "# Criando uma lista com os valores correspondentes aos labels anteriores\n",
        "valores = [10,45,32,56,23]"
      ],
      "metadata": {
        "id": "CNNxS2043wgN"
      },
      "execution_count": 5,
      "outputs": []
    },
    {
      "cell_type": "code",
      "source": [
        "# Colocando as legendas nos gráficos de X e Y\n",
        "plt.bar(labels,valores)\n",
        "plt.xlabel('Codigo do Produto')\n",
        "plt.ylabel('valores')"
      ],
      "metadata": {
        "colab": {
          "base_uri": "https://localhost:8080/",
          "height": 296
        },
        "id": "52YT2Ugn4X3S",
        "outputId": "d0ccb013-6e05-49a9-a1c7-0e9f8f222ef5"
      },
      "execution_count": 9,
      "outputs": [
        {
          "output_type": "execute_result",
          "data": {
            "text/plain": [
              "Text(0, 0.5, 'valores')"
            ]
          },
          "metadata": {},
          "execution_count": 9
        },
        {
          "output_type": "display_data",
          "data": {
            "text/plain": [
              "<Figure size 432x288 with 1 Axes>"
            ],
            "image/png": "[encoded data removed]"
          },
          "metadata": {
            "needs_background": "light"
          }
        }
      ]
    },
    {
      "cell_type": "code",
      "source": [
        "# Colocando o Gráfico de barra na Horizontal\n",
        "plt.barh(labels,valores)\n",
        "plt.xlabel('Codigo do Produto')\n",
        "plt.ylabel('valores')"
      ],
      "metadata": {
        "colab": {
          "base_uri": "https://localhost:8080/",
          "height": 296
        },
        "id": "uheH3RpN5_nC",
        "outputId": "924b0615-e284-47c2-e7c4-2320761e4373"
      },
      "execution_count": 10,
      "outputs": [
        {
          "output_type": "execute_result",
          "data": {
            "text/plain": [
              "Text(0, 0.5, 'valores')"
            ]
          },
          "metadata": {},
          "execution_count": 10
        },
        {
          "output_type": "display_data",
          "data": {
            "text/plain": [
              "<Figure size 432x288 with 1 Axes>"
            ],
            "image/png": "[encoded data removed]"
          },
          "metadata": {
            "needs_background": "light"
          }
        }
      ]
    },
    {
      "cell_type": "code",
      "source": [
        "# Exibindo os valores em cima das barras de forma horizontal\n",
        "plt.bar(labels,valores)\n",
        "plt.xlabel('Codigo do Produto')\n",
        "plt.ylabel('valores')\n",
        "\n",
        "for x,y in zip(labels,valores):\n",
        "  plt.text(x,y+0.05,'%d' % y,ha='center',va='bottom')"
      ],
      "metadata": {
        "colab": {
          "base_uri": "https://localhost:8080/",
          "height": 279
        },
        "id": "MdAma6xG7CJ3",
        "outputId": "88029e1e-9ece-4ece-a547-ac22e3c2ed27"
      },
      "execution_count": 13,
      "outputs": [
        {
          "output_type": "display_data",
          "data": {
            "text/plain": [
              "<Figure size 432x288 with 1 Axes>"
            ],
            "image/png": "[encoded data removed]"
          },
          "metadata": {
            "needs_background": "light"
          }
        }
      ]
    },
    {
      "cell_type": "code",
      "source": [
        "# Exibindo os valores em cima das barras de forma horizontal e alterando a cor\n",
        "plt.bar(labels,valores,color ='black')\n",
        "plt.xlabel('Codigo do Produto')\n",
        "plt.ylabel('valores')\n",
        "\n",
        "for x,y in zip(labels,valores):\n",
        "  plt.text(x,y+0.05,'%d' % y,ha='center',va='bottom')"
      ],
      "metadata": {
        "colab": {
          "base_uri": "https://localhost:8080/",
          "height": 279
        },
        "id": "ExDTCAX17dTn",
        "outputId": "ce47b77c-dad6-4e83-8da3-e39827257311"
      },
      "execution_count": 16,
      "outputs": [
        {
          "output_type": "display_data",
          "data": {
            "text/plain": [
              "<Figure size 432x288 with 1 Axes>"
            ],
            "image/png": "[encoded data removed]"
          },
          "metadata": {
            "needs_background": "light"
          }
        }
      ]
    },
    {
      "cell_type": "code",
      "source": [],
      "metadata": {
        "id": "ZBncD-mA7qUK"
      },
      "execution_count": null,
      "outputs": []
    }
  ]
}